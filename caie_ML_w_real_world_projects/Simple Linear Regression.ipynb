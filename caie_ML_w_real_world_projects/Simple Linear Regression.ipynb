{
 "cells": [
  {
   "cell_type": "markdown",
   "id": "3b26f641-15ce-4bbd-80d6-950b0005eb88",
   "metadata": {},
   "source": [
    "## Understanding the business\n"
   ]
  },
  {
   "cell_type": "code",
   "execution_count": null,
   "id": "e41bb73b-15a8-4d7a-a7f5-bf391570cb07",
   "metadata": {},
   "outputs": [],
   "source": []
  },
  {
   "cell_type": "markdown",
   "id": "84daf0bb-3b4e-4256-b9e4-5b8ed7e10407",
   "metadata": {},
   "source": [
    "Understanding the business"
   ]
  }
 ],
 "metadata": {
  "kernelspec": {
   "display_name": "Python [conda env:base] *",
   "language": "python",
   "name": "conda-base-py"
  },
  "language_info": {
   "codemirror_mode": {
    "name": "ipython",
    "version": 3
   },
   "file_extension": ".py",
   "mimetype": "text/x-python",
   "name": "python",
   "nbconvert_exporter": "python",
   "pygments_lexer": "ipython3",
   "version": "3.12.7"
  }
 },
 "nbformat": 4,
 "nbformat_minor": 5
}
