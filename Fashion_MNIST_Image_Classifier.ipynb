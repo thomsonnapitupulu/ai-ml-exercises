{
  "nbformat": 4,
  "nbformat_minor": 0,
  "metadata": {
    "colab": {
      "provenance": [],
      "toc_visible": true,
      "authorship_tag": "ABX9TyMCJGsCBhnZFqU7DxlqUbB6",
      "include_colab_link": true
    },
    "kernelspec": {
      "name": "python3",
      "display_name": "Python 3"
    },
    "language_info": {
      "name": "python"
    }
  },
  "cells": [
    {
      "cell_type": "markdown",
      "metadata": {
        "id": "view-in-github",
        "colab_type": "text"
      },
      "source": [
        "<a href=\"https://colab.research.google.com/github/thomsonnapitupulu/ai-ml-exercises/blob/main/Fashion_MNIST_Image_Classifier.ipynb\" target=\"_parent\"><img src=\"https://colab.research.google.com/assets/colab-badge.svg\" alt=\"Open In Colab\"/></a>"
      ]
    },
    {
      "cell_type": "markdown",
      "source": [
        "# Installs and Imports"
      ],
      "metadata": {
        "id": "C1DswvsT4MJn"
      }
    },
    {
      "cell_type": "code",
      "execution_count": 1,
      "metadata": {
        "colab": {
          "base_uri": "https://localhost:8080/"
        },
        "id": "N-78MKCYyvhd",
        "outputId": "091ecef0-1d77-4d98-c17e-11533eff970a"
      },
      "outputs": [
        {
          "output_type": "stream",
          "name": "stdout",
          "text": [
            "Colab only includes TensorFlow 2.x; %tensorflow_version has no effect.\n"
          ]
        }
      ],
      "source": [
        "#Activate TensorFlow 2.x version in Colab\n",
        "%tensorflow_version 2.x"
      ]
    },
    {
      "cell_type": "code",
      "source": [
        "#Import TensorFlow and tf.Keras\n",
        "import tensorflow as tf\n",
        "\n",
        "#Import numpy and helper libraries\n",
        "import numpy as np\n",
        "import matplotlib.pyplot as plt\n"
      ],
      "metadata": {
        "id": "OugP4ziB3PGg"
      },
      "execution_count": 5,
      "outputs": []
    },
    {
      "cell_type": "code",
      "source": [],
      "metadata": {
        "id": "Kdjo5piU4Kn9"
      },
      "execution_count": null,
      "outputs": []
    },
    {
      "cell_type": "markdown",
      "source": [
        "# Data"
      ],
      "metadata": {
        "id": "RWC7H1Mv4Vt_"
      }
    },
    {
      "cell_type": "markdown",
      "source": [
        "# 1. Load the Fashion-MNIST Data"
      ],
      "metadata": {
        "id": "0AIp-okb4o7-"
      }
    },
    {
      "cell_type": "code",
      "source": [
        "(train_images, train_labels), (test_images, test_labels) = tf.keras.datasets.fashion_mnist.load_data()"
      ],
      "metadata": {
        "colab": {
          "base_uri": "https://localhost:8080/"
        },
        "id": "YWdMzTpq4gb7",
        "outputId": "2ac63859-e9dd-4732-ce58-08b9f5bf26ac"
      },
      "execution_count": 6,
      "outputs": [
        {
          "output_type": "stream",
          "name": "stdout",
          "text": [
            "Downloading data from https://storage.googleapis.com/tensorflow/tf-keras-datasets/train-labels-idx1-ubyte.gz\n",
            "29515/29515 [==============================] - 0s 0us/step\n",
            "Downloading data from https://storage.googleapis.com/tensorflow/tf-keras-datasets/train-images-idx3-ubyte.gz\n",
            "26421880/26421880 [==============================] - 0s 0us/step\n",
            "Downloading data from https://storage.googleapis.com/tensorflow/tf-keras-datasets/t10k-labels-idx1-ubyte.gz\n",
            "5148/5148 [==============================] - 0s 0us/step\n",
            "Downloading data from https://storage.googleapis.com/tensorflow/tf-keras-datasets/t10k-images-idx3-ubyte.gz\n",
            "4422102/4422102 [==============================] - 0s 0us/step\n"
          ]
        }
      ]
    },
    {
      "cell_type": "markdown",
      "source": [
        "# 2. Explore the Fashion-MNIST dataset"
      ],
      "metadata": {
        "id": "n5Xuq6-k5VES"
      }
    },
    {
      "cell_type": "code",
      "source": [
        "print(\"train_images_shape: \", train_images.shape)\n",
        "print(\"train_labels_shape: \", train_labels.shape)\n",
        "print(\"test_images_shape: \", test_images.shape)\n",
        "print(\"test_labels_shape: \", test_labels.shape)"
      ],
      "metadata": {
        "colab": {
          "base_uri": "https://localhost:8080/"
        },
        "id": "Z517aPPO3dIr",
        "outputId": "99b97dd9-bff7-4617-c7b9-294834de0520"
      },
      "execution_count": 8,
      "outputs": [
        {
          "output_type": "stream",
          "name": "stdout",
          "text": [
            "train_images_shape:  (60000, 28, 28)\n",
            "train_labels_shape:  (60000,)\n",
            "test_images_shape:  (10000, 28, 28)\n",
            "test_labels_shape:  (10000,)\n"
          ]
        }
      ]
    },
    {
      "cell_type": "markdown",
      "source": [
        "# Data preprocessing"
      ],
      "metadata": {
        "id": "mZh3qzjn5w16"
      }
    },
    {
      "cell_type": "code",
      "source": [
        "# Convert data into float32 and normalize the input data\n",
        "train_images = train_images.astype(np.float32) / 255\n",
        "test_images = test_images.astype(np.float32) / 255"
      ],
      "metadata": {
        "id": "S4fmtses523Y"
      },
      "execution_count": 9,
      "outputs": []
    },
    {
      "cell_type": "code",
      "source": [
        "# Reshape input data from (28, 28) to (28, 28, 1)\n",
        "train_images = train_images.reshape(train_images.shape[0], 28, 28, 1)\n",
        "test_images = test_images.reshape(test_images.shape[0], 28, 28, 1)"
      ],
      "metadata": {
        "id": "aKTD9jJ26kHl"
      },
      "execution_count": 11,
      "outputs": []
    },
    {
      "cell_type": "code",
      "source": [
        "# Take a look at the dataset shape after reshaped\n",
        "print(\"train_images_shape: \", train_images.shape)\n",
        "print(\"train_labels_shape: \", train_labels.shape)\n",
        "print(\"test_images_shape: \", test_images.shape)\n",
        "print(\"test_labels_shape: \", test_labels.shape)"
      ],
      "metadata": {
        "colab": {
          "base_uri": "https://localhost:8080/"
        },
        "id": "AxDGos5L7E9i",
        "outputId": "6d8611f4-1b23-4b7b-a3cf-05ee5dbf5c7f"
      },
      "execution_count": 12,
      "outputs": [
        {
          "output_type": "stream",
          "name": "stdout",
          "text": [
            "train_images_shape:  (60000, 28, 28, 1)\n",
            "train_labels_shape:  (60000,)\n",
            "test_images_shape:  (10000, 28, 28, 1)\n",
            "test_labels_shape:  (10000,)\n"
          ]
        }
      ]
    },
    {
      "cell_type": "code",
      "source": [
        "# One-hot encode the labels\n",
        "train_labels = tf.keras.utils.to_categorical(train_labels, 10)\n",
        "test_labels = tf.keras.utils.to_categorical(test_labels, 10)"
      ],
      "metadata": {
        "id": "ufSmUf8H7YHh"
      },
      "execution_count": 13,
      "outputs": []
    },
    {
      "cell_type": "markdown",
      "source": [
        "Model Architecture"
      ],
      "metadata": {
        "id": "vdIWDUxk9IO6"
      }
    },
    {
      "cell_type": "code",
      "source": [
        "# Define a CNN with keras sequential model\n",
        "def create_model():\n",
        "  # Define the model architecture\n",
        "  model = tf.keras.models.Sequential([\n",
        "      # Must define the input shape in the first layer of the neural network\n",
        "      tf.keras.layers.Conv2D(filters=32, kernel_size=3, padding='same', activation='relu', input_shape=(28, 28, 1)),\n",
        "      tf.keras.layers.MaxPooling2D(pool_size=2),\n",
        "      tf.keras.layers.Dropout(0.3),\n",
        "\n",
        "      tf.keras.layers.Conv2D(filters=64, kernel_size=3, padding='same', activation='relu'),\n",
        "      tf.keras.layers.MaxPooling2D(pool_size=2),\n",
        "      tf.keras.layers.Dropout(0.3),\n",
        "\n",
        "      tf.keras.layers.Flatten(),\n",
        "      tf.keras.layers.Dense(10, activation='softmax')\n",
        "  ])\n",
        "\n",
        "  # Compile the model\n",
        "  model.compile(loss=tf.keras.losses.categorical_crossentropy,\n",
        "                optimizer=tf.keras.optimizers.Adam(),\n",
        "                metrics=['accuracy'])\n",
        "\n",
        "  return model"
      ],
      "metadata": {
        "id": "DhqUgmr48pSD"
      },
      "execution_count": 18,
      "outputs": []
    },
    {
      "cell_type": "code",
      "source": [
        "# Create the model\n",
        "model = create_model()"
      ],
      "metadata": {
        "id": "-O0ujZEH-dcs"
      },
      "execution_count": 19,
      "outputs": []
    },
    {
      "cell_type": "code",
      "source": [
        "# Inspect model architecture\n",
        "model.summary()"
      ],
      "metadata": {
        "colab": {
          "base_uri": "https://localhost:8080/"
        },
        "id": "Z_UD_m-a-hya",
        "outputId": "33946027-6e9c-4bc5-9bd5-49faa6181507"
      },
      "execution_count": 20,
      "outputs": [
        {
          "output_type": "stream",
          "name": "stdout",
          "text": [
            "Model: \"sequential_1\"\n",
            "_________________________________________________________________\n",
            " Layer (type)                Output Shape              Param #   \n",
            "=================================================================\n",
            " conv2d_2 (Conv2D)           (None, 28, 28, 32)        320       \n",
            "                                                                 \n",
            " max_pooling2d_2 (MaxPoolin  (None, 14, 14, 32)        0         \n",
            " g2D)                                                            \n",
            "                                                                 \n",
            " dropout_2 (Dropout)         (None, 14, 14, 32)        0         \n",
            "                                                                 \n",
            " conv2d_3 (Conv2D)           (None, 14, 14, 64)        18496     \n",
            "                                                                 \n",
            " max_pooling2d_3 (MaxPoolin  (None, 7, 7, 64)          0         \n",
            " g2D)                                                            \n",
            "                                                                 \n",
            " dropout_3 (Dropout)         (None, 7, 7, 64)          0         \n",
            "                                                                 \n",
            " flatten_1 (Flatten)         (None, 3136)              0         \n",
            "                                                                 \n",
            " dense_1 (Dense)             (None, 10)                31370     \n",
            "                                                                 \n",
            "=================================================================\n",
            "Total params: 50186 (196.04 KB)\n",
            "Trainable params: 50186 (196.04 KB)\n",
            "Non-trainable params: 0 (0.00 Byte)\n",
            "_________________________________________________________________\n"
          ]
        }
      ]
    },
    {
      "cell_type": "code",
      "source": [
        "%%time\n",
        "# Train the model\n",
        "history = model.fit(train_images, train_labels, batch_size=64, epochs= 5)"
      ],
      "metadata": {
        "colab": {
          "base_uri": "https://localhost:8080/"
        },
        "id": "NRXXxzX6_Dmb",
        "outputId": "d9fe2667-7945-40d1-bf90-de75cb4e93e8"
      },
      "execution_count": 21,
      "outputs": [
        {
          "output_type": "stream",
          "name": "stdout",
          "text": [
            "Epoch 1/5\n",
            "938/938 [==============================] - 83s 88ms/step - loss: 0.5490 - accuracy: 0.8026\n",
            "Epoch 2/5\n",
            "938/938 [==============================] - 80s 85ms/step - loss: 0.3733 - accuracy: 0.8682\n",
            "Epoch 3/5\n",
            "938/938 [==============================] - 77s 83ms/step - loss: 0.3327 - accuracy: 0.8820\n",
            "Epoch 4/5\n",
            "938/938 [==============================] - 78s 83ms/step - loss: 0.3073 - accuracy: 0.8909\n",
            "Epoch 5/5\n",
            "938/938 [==============================] - 75s 80ms/step - loss: 0.2903 - accuracy: 0.8954\n",
            "CPU times: user 9min 48s, sys: 14.5 s, total: 10min 2s\n",
            "Wall time: 7min 23s\n"
          ]
        }
      ]
    },
    {
      "cell_type": "code",
      "source": [
        "model.evaluate(test_images, test_labels, verbose=2)"
      ],
      "metadata": {
        "colab": {
          "base_uri": "https://localhost:8080/"
        },
        "id": "e1yaZwtx_d3-",
        "outputId": "b7468b8a-1281-4010-8f30-10d0192a0760"
      },
      "execution_count": 22,
      "outputs": [
        {
          "output_type": "stream",
          "name": "stdout",
          "text": [
            "313/313 - 3s - loss: 0.2833 - accuracy: 0.9009 - 3s/epoch - 11ms/step\n"
          ]
        },
        {
          "output_type": "execute_result",
          "data": {
            "text/plain": [
              "[0.2832612693309784, 0.9009000062942505]"
            ]
          },
          "metadata": {},
          "execution_count": 22
        }
      ]
    }
  ]
}